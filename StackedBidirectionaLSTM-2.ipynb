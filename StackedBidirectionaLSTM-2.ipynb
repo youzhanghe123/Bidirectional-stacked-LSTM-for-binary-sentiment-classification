{
 "cells": [
  {
   "cell_type": "code",
   "execution_count": 1,
   "metadata": {
    "id": "8WxYcNhrhf8O"
   },
   "outputs": [],
   "source": [
    "import numpy as np # linear algebra\n",
    "import pandas as pd # data processing, CSV file I/O (e.g. pd.read_csv)\n",
    "import torch\n",
    "import torch.nn as nn\n",
    "import torch.nn.functional as F\n",
    "from nltk.corpus import stopwords\n",
    "from collections import Counter\n",
    "import seaborn as sns\n",
    "import matplotlib.pyplot as plt\n",
    "from sklearn.model_selection import train_test_split"
   ]
  },
  {
   "cell_type": "code",
   "execution_count": 2,
   "metadata": {
    "id": "2cc7mIR_pUWz"
   },
   "outputs": [],
   "source": [
    "from torch.utils.data import Dataset, DataLoader\n",
    "from nltk.tokenize import word_tokenize\n",
    "from nltk.corpus import stopwords"
   ]
  },
  {
   "cell_type": "code",
   "execution_count": 3,
   "metadata": {
    "id": "bYcAq3TNNILt"
   },
   "outputs": [],
   "source": [
    "from torch.nn.utils.rnn import pad_sequence"
   ]
  },
  {
   "cell_type": "code",
   "execution_count": 4,
   "metadata": {
    "colab": {
     "base_uri": "https://localhost:8080/"
    },
    "id": "rL9qn-6y1iS4",
    "outputId": "bdad520b-7d1f-4743-a4f6-cf3a00136ae9"
   },
   "outputs": [
    {
     "name": "stderr",
     "output_type": "stream",
     "text": [
      "[nltk_data] Downloading package punkt to\n",
      "[nltk_data]     /Users/heyouzhang/nltk_data...\n",
      "[nltk_data]   Package punkt is already up-to-date!\n",
      "[nltk_data] Downloading package stopwords to\n",
      "[nltk_data]     /Users/heyouzhang/nltk_data...\n",
      "[nltk_data]   Package stopwords is already up-to-date!\n"
     ]
    },
    {
     "data": {
      "text/plain": [
       "True"
      ]
     },
     "execution_count": 4,
     "metadata": {},
     "output_type": "execute_result"
    }
   ],
   "source": [
    "import nltk\n",
    "nltk.download('punkt')\n",
    "nltk.download('stopwords')"
   ]
  },
  {
   "cell_type": "code",
   "execution_count": 5,
   "metadata": {},
   "outputs": [
    {
     "name": "stdout",
     "output_type": "stream",
     "text": [
      "MPS device is available\n"
     ]
    }
   ],
   "source": [
    "#find whether GPU is available\n",
    "if torch.backends.mps.is_available():\n",
    "    mps_device = torch.device(\"mps\")\n",
    "    print(\"MPS device is available\")\n",
    "else:\n",
    "    print (\"MPS device not found.\")"
   ]
  },
  {
   "cell_type": "markdown",
   "metadata": {
    "id": "kS6fhXabmsZi"
   },
   "source": [
    "EDA"
   ]
  },
  {
   "cell_type": "code",
   "execution_count": 6,
   "metadata": {
    "colab": {
     "base_uri": "https://localhost:8080/",
     "height": 206
    },
    "id": "zSsI0jqnhoSN",
    "outputId": "d054ea20-c65d-4c10-a26a-f206cf937bc0"
   },
   "outputs": [
    {
     "data": {
      "text/html": [
       "<div>\n",
       "<style scoped>\n",
       "    .dataframe tbody tr th:only-of-type {\n",
       "        vertical-align: middle;\n",
       "    }\n",
       "\n",
       "    .dataframe tbody tr th {\n",
       "        vertical-align: top;\n",
       "    }\n",
       "\n",
       "    .dataframe thead th {\n",
       "        text-align: right;\n",
       "    }\n",
       "</style>\n",
       "<table border=\"1\" class=\"dataframe\">\n",
       "  <thead>\n",
       "    <tr style=\"text-align: right;\">\n",
       "      <th></th>\n",
       "      <th>review</th>\n",
       "      <th>sentiment</th>\n",
       "    </tr>\n",
       "  </thead>\n",
       "  <tbody>\n",
       "    <tr>\n",
       "      <th>0</th>\n",
       "      <td>One of the other reviewers has mentioned that ...</td>\n",
       "      <td>positive</td>\n",
       "    </tr>\n",
       "    <tr>\n",
       "      <th>1</th>\n",
       "      <td>A wonderful little production. &lt;br /&gt;&lt;br /&gt;The...</td>\n",
       "      <td>positive</td>\n",
       "    </tr>\n",
       "    <tr>\n",
       "      <th>2</th>\n",
       "      <td>I thought this was a wonderful way to spend ti...</td>\n",
       "      <td>positive</td>\n",
       "    </tr>\n",
       "    <tr>\n",
       "      <th>3</th>\n",
       "      <td>Basically there's a family where a little boy ...</td>\n",
       "      <td>negative</td>\n",
       "    </tr>\n",
       "    <tr>\n",
       "      <th>4</th>\n",
       "      <td>Petter Mattei's \"Love in the Time of Money\" is...</td>\n",
       "      <td>positive</td>\n",
       "    </tr>\n",
       "  </tbody>\n",
       "</table>\n",
       "</div>"
      ],
      "text/plain": [
       "                                              review sentiment\n",
       "0  One of the other reviewers has mentioned that ...  positive\n",
       "1  A wonderful little production. <br /><br />The...  positive\n",
       "2  I thought this was a wonderful way to spend ti...  positive\n",
       "3  Basically there's a family where a little boy ...  negative\n",
       "4  Petter Mattei's \"Love in the Time of Money\" is...  positive"
      ]
     },
     "execution_count": 6,
     "metadata": {},
     "output_type": "execute_result"
    }
   ],
   "source": [
    "imdb_csv = 'IMDB Dataset.csv'\n",
    "df = pd.read_csv(imdb_csv)\n",
    "df.head()"
   ]
  },
  {
   "cell_type": "code",
   "execution_count": 7,
   "metadata": {
    "colab": {
     "base_uri": "https://localhost:8080/"
    },
    "id": "svHHcIPEk_ea",
    "outputId": "4f436cbc-0bba-423f-a2ab-541b86adfd4d"
   },
   "outputs": [
    {
     "name": "stdout",
     "output_type": "stream",
     "text": [
      "shape of train data is (40000,)\n",
      "shape of test data is (10000,)\n"
     ]
    }
   ],
   "source": [
    "X,y = df['review'].values,df['sentiment'].values\n",
    "x_train,x_test,y_train,y_test = train_test_split(X,y,test_size=0.2,stratify=y) #stratify=y ensures that the class distribution of y (the target variable) is the same in both y_train and y_test\n",
    "print(f'shape of train data is {x_train.shape}')\n",
    "print(f'shape of test data is {x_test.shape}')"
   ]
  },
  {
   "cell_type": "code",
   "execution_count": 8,
   "metadata": {
    "id": "r-Ar3bkA4NXE"
   },
   "outputs": [],
   "source": [
    "y_train=[1  if x==\"positive\" else 0 for x in y_train]\n",
    "y_test=[1  if x==\"positive\" else 0 for x in y_test]"
   ]
  },
  {
   "cell_type": "markdown",
   "metadata": {
    "id": "cqIJOWJGmqQz"
   },
   "source": [
    "## data preprocessing"
   ]
  },
  {
   "cell_type": "markdown",
   "metadata": {
    "id": "Y953vpapCdgV"
   },
   "source": [
    "In this section, we first use NTLK to tokenize the sentences, and then pad or truncate the sentences."
   ]
  },
  {
   "cell_type": "code",
   "execution_count": 9,
   "metadata": {
    "id": "_yutE1971D1H"
   },
   "outputs": [],
   "source": [
    "# Tokenization,padding, and truncating\n",
    "global max_sentence_length\n",
    "max_sentence_length = 100\n",
    "\n",
    "def preprocess(text):\n",
    "    tokens = word_tokenize(text)\n",
    "\n",
    "    stop_words = set(stopwords.words(\"english\")) #delete stop words\n",
    "    tokens = [word.lower() for word in tokens if word.isalnum() and word.lower() not in stop_words] #here we delete all non alphabet or numerical tokens\n",
    "\n",
    "    if len(tokens) >= max_sentence_length:\n",
    "        tokens = tokens[:max_sentence_length]\n",
    "    else:\n",
    "        tokens += ['<pad>'] * (max_sentence_length - len(tokens))\n",
    "\n",
    "    return tokens"
   ]
  },
  {
   "cell_type": "code",
   "execution_count": 10,
   "metadata": {
    "id": "bN_lrG325CO-"
   },
   "outputs": [],
   "source": [
    "# Apply tokenization and preprocess to all texts\n",
    "train_texts = [preprocess(text) for text in x_train]\n",
    "test_texts = [preprocess(text) for text in x_test]\n",
    "\n",
    "# Build vocabulary\n",
    "flattened_train_texts = [word for sublist in train_texts for word in sublist]\n",
    "word_counter = Counter(flattened_train_texts)\n",
    "vocab = {word: idx for idx, (word, _) in enumerate(word_counter.most_common(), 2)}\n",
    "vocab['<unk>'] = 0 #this is for unknow word\n",
    "vocab['<pad>'] = 1 #this is for padding position"
   ]
  },
  {
   "cell_type": "code",
   "execution_count": 11,
   "metadata": {
    "id": "RmTTjaxZ6n2_"
   },
   "outputs": [],
   "source": [
    "# Convert tokens to indices\n",
    "x_train_indices = [[vocab.get(word, vocab['<unk>']) for word in preprocess(text)] for text in x_train]\n",
    "x_test_indices = [[vocab.get(word, vocab['<unk>']) for word in preprocess(text)] for text in x_test] #since we built vocabulary dictionary on the train dataset, words from test dataset may not be in the list. If so, we use unknown to replace it.\n",
    "\n",
    "# Convert labels to PyTorch tensors\n",
    "y_train_tensor = torch.tensor(y_train)\n",
    "y_test_tensor = torch.tensor(y_test)"
   ]
  },
  {
   "cell_type": "code",
   "execution_count": 12,
   "metadata": {
    "id": "uyizUc_C63Ri"
   },
   "outputs": [],
   "source": [
    "# Define a PyTorch dataset\n",
    "class CustomDataset(Dataset):\n",
    "    def __init__(self, X, y):\n",
    "        self.X = X\n",
    "        self.y = y\n",
    "\n",
    "    def __len__(self):\n",
    "        return len(self.X)\n",
    "\n",
    "    def __getitem__(self, idx):\n",
    "        return self.X[idx], self.y[idx]\n",
    "\n",
    "# Create PyTorch datasets and data loaders\n",
    "train_dataset = CustomDataset(x_train_indices, y_train_tensor)\n",
    "test_dataset = CustomDataset(x_test_indices, y_test_tensor)\n",
    "\n",
    "train_loader = DataLoader(train_dataset, batch_size=32, shuffle=True,collate_fn=lambda batch: (pad_sequence([torch.tensor(item[0]) for item in batch], batch_first=True, padding_value=0), torch.tensor([item[1] for item in batch])))\n",
    "test_loader = DataLoader(test_dataset, batch_size=32, shuffle=False,collate_fn=lambda batch: (pad_sequence([torch.tensor(item[0]) for item in batch], batch_first=True, padding_value=0), torch.tensor([item[1] for item in batch])))"
   ]
  },
  {
   "cell_type": "markdown",
   "metadata": {
    "id": "fQiX_BHgEtcg"
   },
   "source": [
    "## Bidirectional LSTM"
   ]
  },
  {
   "cell_type": "markdown",
   "metadata": {
    "id": "nFzaNFOEEqf5"
   },
   "source": [
    "Then we start to train the model"
   ]
  },
  {
   "cell_type": "code",
   "execution_count": 13,
   "metadata": {
    "id": "4-MdG4yM7U73"
   },
   "outputs": [],
   "source": [
    "# Define the model with an embedding layer and a bidirectional LSTM\n",
    "class BiLSTMWithEmbedding(nn.Module):\n",
    "    def __init__(self, vocab_size, embedding_dim, hidden_dim, output_dim, num_layers, bidirectional, dropout):\n",
    "        super(BiLSTMWithEmbedding, self).__init__()\n",
    "        #After you've tokenized your text and assigned each word an integer index, the next step is to transform these integer indices into dense vectors using an embedding layer. Each word index is essentially used as a lookup key in the embedding layer, and the layer returns the corresponding vector representation for that word.\n",
    "        self.embedding = nn.Embedding(vocab_size, embedding_dim) #transform each word into vector with embedding dimension\n",
    "        self.lstm = nn.LSTM(\n",
    "            embedding_dim,\n",
    "            hidden_dim, #the number of hidden units or neurons in the LSTM layer\n",
    "            num_layers=num_layers, #a stacked LSTM with multiple layers\n",
    "            bidirectional=bidirectional, #whether the lstm is bidirectional\n",
    "            dropout=dropout, #Dropout can be applied to the recurrent connections by randomly setting a fraction of the hidden units to zero during each time step.\n",
    "            batch_first=True #If set to True, the input tensors are expected to have the shape (batch_size, seq_len, input_size)\n",
    "        )\n",
    "        self.fc = nn.Linear(hidden_dim * 2 if bidirectional else hidden_dim, output_dim) #the output of lstm in each time stamp is the hidden state\n",
    "        self.dropout = nn.Dropout(dropout)\n",
    "\n",
    "    def forward(self, text):\n",
    "\n",
    "        embedded = self.embedding(text)\n",
    "\n",
    "        lstm_out, _ = self.lstm(embedded)\n",
    "\n",
    "        # Concatenate the last hidden states from both directions\n",
    "        hidden = self.dropout(torch.cat((lstm_out[:, -1, :hidden_dim], lstm_out[:, 0, hidden_dim:]), dim=1))\n",
    "        #During the training phase, the dropout layer randomly sets a fraction of the input units (neurons) to zero with a specified probability (p).\n",
    "        logits = self.fc(hidden)\n",
    "        logits=torch.sigmoid(logits) #Since this is a binary classification problem, we use sigmoid activation function\n",
    "        return logits\n",
    "\n",
    "# Instantiate the model\n",
    "vocab_size = len(vocab)\n",
    "embedding_dim = 100\n",
    "hidden_dim = 256\n",
    "output_dim = 1\n",
    "num_layers = 2\n",
    "bidirectional = True\n",
    "dropout = 0.5\n",
    "\n",
    "stackedbilstmmodel = BiLSTMWithEmbedding(vocab_size, embedding_dim, hidden_dim, output_dim, num_layers, bidirectional,dropout)\n",
    "\n",
    "# Define loss function and optimizer\n",
    "criterion = nn.BCEWithLogitsLoss()\n",
    "optimizer = torch.optim.Adam(stackedbilstmmodel.parameters(), lr=0.001)\n"
   ]
  },
  {
   "cell_type": "code",
   "execution_count": 14,
   "metadata": {
    "id": "vIY_M8aM1FSl"
   },
   "outputs": [],
   "source": [
    "stackedbilstmmodel = stackedbilstmmodel.to(mps_device)"
   ]
  },
  {
   "cell_type": "code",
   "execution_count": 15,
   "metadata": {
    "id": "wrvupQGZ7A8E"
   },
   "outputs": [
    {
     "name": "stdout",
     "output_type": "stream",
     "text": [
      "*********\n",
      "Epoch 1/7, Training Loss: 0.6923072054862976\n",
      "Epoch 1/7, Test Loss: 0.7256650924682617, Test Accuracy: 51.83%\n",
      "*********\n",
      "*********\n",
      "Epoch 2/7, Training Loss: 0.6914461329460144\n",
      "Epoch 2/7, Test Loss: 0.6629374027252197, Test Accuracy: 58.09%\n",
      "*********\n",
      "*********\n",
      "Epoch 3/7, Training Loss: 0.6665212011814118\n",
      "Epoch 3/7, Test Loss: 0.5844694375991821, Test Accuracy: 70.75%\n",
      "*********\n",
      "*********\n",
      "Epoch 4/7, Training Loss: 0.6434713652133942\n",
      "Epoch 4/7, Test Loss: 0.6246778964996338, Test Accuracy: 79.19%\n",
      "*********\n",
      "*********\n",
      "Epoch 5/7, Training Loss: 0.603864732003212\n",
      "Epoch 5/7, Test Loss: 0.5358812808990479, Test Accuracy: 76.62%\n",
      "*********\n",
      "*********\n",
      "Epoch 6/7, Training Loss: 0.5944140457153321\n",
      "Epoch 6/7, Test Loss: 0.5643318891525269, Test Accuracy: 78.50%\n",
      "*********\n",
      "*********\n",
      "Epoch 7/7, Training Loss: 0.5735676704645157\n",
      "Epoch 7/7, Test Loss: 0.5131840705871582, Test Accuracy: 83.25%\n",
      "*********\n"
     ]
    }
   ],
   "source": [
    "# Training loop\n",
    "epochs = 7\n",
    "\n",
    "trainloss=[]\n",
    "testloss=[]\n",
    "testaccuracy=[]\n",
    "\n",
    "for epoch in range(epochs):\n",
    "    stackedbilstmmodel.train()\n",
    "    total_loss=0\n",
    "    for batch in train_loader:\n",
    "        X_batch, y_batch = batch\n",
    "        y_batch = y_batch.float()  # Ensure labels are floats\n",
    "        X_batch, y_batch =X_batch.to(mps_device), y_batch.to(mps_device)\n",
    "        optimizer.zero_grad()\n",
    "    \n",
    "        predictions = stackedbilstmmodel(X_batch).squeeze(1)\n",
    "        \n",
    "\n",
    "        loss = criterion(predictions, y_batch)\n",
    "        total_loss += loss.item()\n",
    "        loss.backward()\n",
    "        optimizer.step()\n",
    "    average_loss = total_loss / len(train_loader)\n",
    "    trainloss.append(average_loss)\n",
    "    print(\"*********\")\n",
    "    print(f'Epoch {epoch + 1}/{epochs}, Training Loss: {average_loss}')\n",
    "\n",
    "    # Evaluation on the test set\n",
    "    stackedbilstmmodel.eval()\n",
    "    with torch.no_grad():\n",
    "        correct_predictions = 0\n",
    "        total_samples = 0\n",
    "        total_val_loss=0\n",
    "        for batch in test_loader:\n",
    "            X_batch, y_batch = batch\n",
    "            y_batch = y_batch.float()  # Ensure labels are floats\n",
    "            X_batch, y_batch =X_batch.to(mps_device), y_batch.to(mps_device)\n",
    "            predictions = stackedbilstmmodel(X_batch).squeeze(1)\n",
    "            # Calculate the number of correct predictions (assuming binary classification)\n",
    "            predicted_labels = ( torch.round(predictions.squeeze()) >=0.5).float()\n",
    "            correct_predictions += (predicted_labels == y_batch).sum().item()\n",
    "            total_samples += y_batch.size(0)\n",
    "            total_val_loss+=loss.item()\n",
    "\n",
    "        accuracy = correct_predictions / total_samples\n",
    "        testaccuracy.append(accuracy)\n",
    "        average_loss = total_val_loss / len(test_loader)\n",
    "        testloss.append(average_loss)\n",
    "        print(f'Epoch {epoch + 1}/{epochs}, Test Loss: {average_loss}, Test Accuracy: {accuracy * 100:.2f}%')\n",
    "        print(\"*********\")"
   ]
  },
  {
   "cell_type": "code",
   "execution_count": 22,
   "metadata": {},
   "outputs": [
    {
     "data": {
      "image/png": "[encoded data removed]",
      "text/plain": [
       "<Figure size 640x480 with 1 Axes>"
      ]
     },
     "metadata": {},
     "output_type": "display_data"
    }
   ],
   "source": [
    "plt.plot([i+1 for i in range(epochs)],testaccuracy, label='Testing Accuracy')\n",
    "plt.title('Accuracy Trend of Test Dataset')\n",
    "plt.xlabel('Epochs')\n",
    "plt.ylabel('Accuracy')\n",
    "plt.legend()\n",
    "plt.show()"
   ]
  },
  {
   "cell_type": "code",
   "execution_count": 25,
   "metadata": {},
   "outputs": [
    {
     "data": {
      "image/png": "[encoded data removed]",
      "text/plain": [
       "<Figure size 640x480 with 1 Axes>"
      ]
     },
     "metadata": {},
     "output_type": "display_data"
    }
   ],
   "source": [
    "plt.plot([i+1 for i in range(epochs)],testloss, label='Testing Loss')\n",
    "plt.title('Loss Trend of Test Dataset')\n",
    "plt.xlabel('Epochs')\n",
    "plt.ylabel('Loss')\n",
    "plt.legend()\n",
    "plt.show()"
   ]
  },
  {
   "cell_type": "code",
   "execution_count": 26,
   "metadata": {},
   "outputs": [
    {
     "data": {
      "image/png": "[encoded data removed]",
      "text/plain": [
       "<Figure size 640x480 with 1 Axes>"
      ]
     },
     "metadata": {},
     "output_type": "display_data"
    }
   ],
   "source": [
    "plt.plot([i+1 for i in range(epochs)],trainloss, label='Traning Loss')\n",
    "plt.title('Loss Trend of Train Dataset')\n",
    "plt.xlabel('Epochs')\n",
    "plt.ylabel('Loss')\n",
    "plt.legend()\n",
    "plt.show()"
   ]
  },
  {
   "cell_type": "code",
   "execution_count": null,
   "metadata": {},
   "outputs": [],
   "source": []
  }
 ],
 "metadata": {
  "accelerator": "GPU",
  "colab": {
   "gpuType": "T4",
   "provenance": []
  },
  "kernelspec": {
   "display_name": "Python 3 (ipykernel)",
   "language": "python",
   "name": "python3"
  },
  "language_info": {
   "codemirror_mode": {
    "name": "ipython",
    "version": 3
   },
   "file_extension": ".py",
   "mimetype": "text/x-python",
   "name": "python",
   "nbconvert_exporter": "python",
   "pygments_lexer": "ipython3",
   "version": "3.9.13"
  }
 },
 "nbformat": 4,
 "nbformat_minor": 1
}
